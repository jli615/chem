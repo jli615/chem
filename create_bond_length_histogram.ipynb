{
 "cells": [
  {
   "cell_type": "code",
   "execution_count": 1,
   "metadata": {},
   "outputs": [],
   "source": [
    "#pip install mendeleev\n",
    "import pandas as pd\n",
    "import xml.etree.ElementTree as ET\n",
    "import matplotlib.pyplot as plt\n",
    "from mpl_toolkits import mplot3d\n",
    "import numpy as np\n",
    "from mendeleev import element\n",
    "import math"
   ]
  },
  {
   "cell_type": "code",
   "execution_count": 2,
   "metadata": {},
   "outputs": [],
   "source": [
    "##creating Atom class\n",
    "class Atom:\n",
    "    def __init__(self, atType, symbol, userNum, coords, id = -1):\n",
    "        self.atType = atType\n",
    "        self.symbol = symbol\n",
    "        self.userNum = userNum\n",
    "        self.coords = coords\n",
    "        self.id = id\n",
    "        xyz = coords.split()\n",
    "        self.xcoord = float(xyz[0])\n",
    "        self.ycoord = float(xyz[1])\n",
    "        self.zcoord = float(xyz[2])\n",
    "        \n",
    "    def __repr__(self):\n",
    "        return \"Atom: id: {}, atType: {}, symbol: {}, userNum: {}, coords: {}\".format(self.id, self.atType, self.symbol, self.userNum, self.coords)\n",
    "\n",
    "##creating Bond class\n",
    "class Bond:\n",
    "    def __init__(self, bondAtom1, bondAtom2, bondOrderType, bondOrder):\n",
    "        self.bondAtom1 = bondAtom1\n",
    "        self.bondAtom2 = bondAtom2\n",
    "        self.bondOrderType = bondOrderType\n",
    "        self.bondOrder = bondOrder\n",
    "        \n",
    "    def __repr__(self):\n",
    "        return \" Bond: bondAtom1: {}, bondAtom2: {}, bondOrderType: {}, bondOrder: {}\".format(self.bondAtom1, self.bondAtom2, self.bondOrderType, self.bondOrder)\n",
    "\n",
    "##creating Molecule class\n",
    "class Molecule:\n",
    "    \n",
    "    ##initializer with option to parse c3xml file\n",
    "    def __init__(self, file=None):\n",
    "        self.atoms = dict()\n",
    "        self.bonds = dict()\n",
    "        if file == None:\n",
    "            pass\n",
    "            ##creates empty molecule, atoms and bonds can be added later on\n",
    "        else:\n",
    "            tree = ET.parse(file)\n",
    "            root = tree.getroot()\n",
    "            for atom in root.iter('atom'):\n",
    "                id = atom.attrib['id']\n",
    "                atType = atom.attrib['atType']\n",
    "                symbol = atom.attrib['symbol']\n",
    "                userNum = atom.attrib['userNum']\n",
    "                coords = atom.attrib['cartCoords']\n",
    "                self.atoms[id] = Atom(atType, symbol, userNum, coords, id)\n",
    "            for bond in root.iter('bond'):\n",
    "                id = bond.attrib['id']\n",
    "                bondAtom1 = bond.attrib['bondAtom1']\n",
    "                bondAtom2 = bond.attrib['bondAtom2']\n",
    "                bondOrderType = bond.attrib['bondOrderType']\n",
    "                bondOrder = bond.attrib['bondOrder']\n",
    "                self.bonds[id] = Bond(bondAtom1, bondAtom2, bondOrderType, bondOrder)\n",
    "        self.center = None\n",
    "        #only for k-hop function\n",
    "    \n",
    "    def __repr__(self):\n",
    "        return \"Atoms: {}, Bonds: {}\".format(self.atoms.keys(), self.bonds.keys())\n",
    "    \n",
    "    def bond_atom1(self, bond):\n",
    "        return self.bonds[bond].bondAtom1\n",
    "    \n",
    "    def bond_atom2(self, bond):\n",
    "        return self.bonds[bond].bondAtom2\n",
    "    \n",
    "    def bond_atom1_info(self, bond):\n",
    "        return self.atoms[self.bonds[bond].bondAtom1]\n",
    "    \n",
    "    def bond_atom2_info(self, bond):\n",
    "        return self.atoms[self.bonds[bond].bondAtom2]\n",
    "    \n",
    "    def plot(self):\n",
    "        fig = plt.figure(figsize = (20,15))\n",
    "        ax = plt.axes(projection = '3d')\n",
    "    \n",
    "        x = np.array([])\n",
    "        y = np.array([])\n",
    "        z = np.array([])\n",
    "        \n",
    "        symbol_colors = {'C': 'black', 'H': 'gray', 'O': 'red', 'N': 'blue', \"Cl\": 'green', 'S': 'yellow', 'P': 'orange', 'F': 'indigo'}\n",
    "        \n",
    "        atoms_dict_x = dict()\n",
    "        atoms_dict_y = dict()\n",
    "        atoms_dict_z = dict()\n",
    "        for atom in self.atoms:\n",
    "            if self.atoms[atom].symbol not in atoms_dict_x.keys():\n",
    "                atoms_dict_x[self.atoms[atom].symbol] = np.array([])\n",
    "                atoms_dict_y[self.atoms[atom].symbol] = np.array([])\n",
    "                atoms_dict_z[self.atoms[atom].symbol] = np.array([])\n",
    "            else:\n",
    "                pass\n",
    "            atoms_dict_x[self.atoms[atom].symbol] = np.append(atoms_dict_x[self.atoms[atom].symbol], self.atoms[atom].xcoord)\n",
    "            atoms_dict_y[self.atoms[atom].symbol] = np.append(atoms_dict_y[self.atoms[atom].symbol], self.atoms[atom].ycoord)\n",
    "            atoms_dict_z[self.atoms[atom].symbol] = np.append(atoms_dict_z[self.atoms[atom].symbol], self.atoms[atom].zcoord)\n",
    "        for symbol in atoms_dict_x.keys():\n",
    "            if symbol != 'Lp':\n",
    "                if symbol in symbol_colors.keys():\n",
    "                    color = symbol_colors[symbol]\n",
    "                else:\n",
    "                    color = 'magenta'\n",
    "                size = 5 * element(symbol).atomic_radius\n",
    "                ax.scatter(atoms_dict_x[symbol], atoms_dict_y[symbol], atoms_dict_z[symbol], s = size, c = color)\n",
    "        ##plotting atoms\n",
    "    \n",
    "        bond_width = {'0':0,'1': 2, \"2\":6, \"3\":12}\n",
    "        #none, single bond, double bond, triple bond\n",
    "        for bond in self.bonds:\n",
    "            xb = np.array([])\n",
    "            yb = np.array([])\n",
    "            zb = np.array([])\n",
    "            xb = np.append(xb, self.atoms[self.bonds[bond].bondAtom1].xcoord)\n",
    "            xb = np.append(xb, self.atoms[self.bonds[bond].bondAtom2].xcoord)\n",
    "            yb = np.append(yb, self.atoms[self.bonds[bond].bondAtom1].ycoord)\n",
    "            yb = np.append(yb, self.atoms[self.bonds[bond].bondAtom2].ycoord)\n",
    "            zb = np.append(zb, self.atoms[self.bonds[bond].bondAtom1].zcoord)\n",
    "            zb = np.append(zb, self.atoms[self.bonds[bond].bondAtom2].zcoord)\n",
    "            ax.plot(xb, yb, zb, linewidth = bond_width[self.bonds[bond].bondOrder], c = 'gray')\n",
    "        \n",
    "    \n",
    "    ##returns atoms & bonds one hop from given atom, used later to construct the k-hop method\n",
    "    def one_hop(self, atom):\n",
    "        one_hop = []\n",
    "        one_hop.append(atom)\n",
    "        one_hop_bonds = []\n",
    "        for bond in self.bonds.keys():\n",
    "            if self.bond_atom1(bond) == atom:\n",
    "                one_hop.append(self.bond_atom2(bond))\n",
    "                one_hop_bonds.append(bond)\n",
    "            elif self.bond_atom2(bond) == atom:\n",
    "                one_hop.append(self.bond_atom1(bond))\n",
    "                one_hop_bonds.append(bond)\n",
    "        return one_hop, one_hop_bonds\n",
    "    \n",
    "    ##built this first to use as a guide to build k-hop method\n",
    "    #def two_hop(self, atom):\n",
    "        #atoms, bonds = self.one_hop(atom)\n",
    "        #two_hop = []\n",
    "        #two_hop_bonds = []\n",
    "        #for atom in atoms:\n",
    "            #two_hop.append(atom)\n",
    "        #for bond in bonds:\n",
    "            #two_hop_bonds.append(bond)\n",
    "        #for i in atoms:\n",
    "            #a, b = self.one_hop(i)\n",
    "            #for atom in a:\n",
    "                #if atom not in two_hop:\n",
    "                    #two_hop.append(atom)\n",
    "            #for bond in b:\n",
    "                #if bond not in two_hop_bonds:\n",
    "                    #two_hop_bonds.append(bond)\n",
    "        #return two_hop, two_hop_bonds\n",
    "    \n",
    "    ##returns molecule with all atoms, bonds in a k-hop neighborhood of an atom\n",
    "    def k_hop(self, atom, k):\n",
    "        k_atoms, k_bonds = self.one_hop(atom)\n",
    "        new_atoms = []\n",
    "        new_bonds = []\n",
    "        for iter in range(k-1):\n",
    "            for i in k_atoms:\n",
    "                atoms, bonds = self.one_hop(i)\n",
    "                for atom in atoms:\n",
    "                    if atom not in k_atoms and atom not in new_atoms:\n",
    "                        new_atoms.append(atom)\n",
    "                for bond in bonds:\n",
    "                    if bond not in k_bonds and bond not in new_bonds:\n",
    "                        new_bonds.append(bond) \n",
    "            for a in new_atoms:\n",
    "                k_atoms.append(a)\n",
    "            for b in new_bonds:\n",
    "                k_bonds.append(b)\n",
    "            new_atoms = []\n",
    "            new_bonds = []\n",
    "        new_molecule = Molecule()\n",
    "        #added center, center_id 1/19\n",
    "        new_molecule.center = self.atoms[atom]\n",
    "        ####################### \n",
    "        for atom in k_atoms:\n",
    "            new_molecule.atoms[atom] = self.atoms[atom]\n",
    "        for bond in k_bonds:\n",
    "            new_molecule.bonds[bond] = self.bonds[bond]\n",
    "        return new_molecule\n",
    "    \n",
    "    ###new 1/19\n",
    "    def get_all_k_hop(self, k):\n",
    "        neighborhoods = []\n",
    "        for atom in self.atoms:\n",
    "            neighborhoods.append(self.k_hop(atom, k))\n",
    "        return neighborhoods\n",
    "\n",
    "    ###new 1/21\n",
    "    def distance(self, bond):\n",
    "        atom1 = self.bonds[bond].bondAtom1\n",
    "        atom2 = self.bonds[bond].bondAtom2\n",
    "        x1 = self.atoms[atom1].xcoord\n",
    "        y1 = self.atoms[atom1].ycoord\n",
    "        z1 = self.atoms[atom1].zcoord\n",
    "        x2 = self.atoms[atom2].xcoord\n",
    "        y2 = self.atoms[atom2].ycoord\n",
    "        z2 = self.atoms[atom2].zcoord\n",
    "        distance = np.sqrt((x1-x2)**2 + (y1-y2)**2 + (z1-z2)**2)\n",
    "        return distance\n"
   ]
  },
  {
   "cell_type": "code",
   "execution_count": 3,
   "metadata": {},
   "outputs": [],
   "source": [
    "files = pd.read_excel('chemfiles.xlsx')"
   ]
  },
  {
   "cell_type": "code",
   "execution_count": 4,
   "metadata": {},
   "outputs": [],
   "source": [
    "folder = {\n",
    "    'Addition of alcohols': '1 Addition of alcohols',\n",
    "    'Addition of thiols': '2 Addition of thiols',\n",
    "    'Hydrophosphonylation of imines': '3 Hydrophosphonylation of imines',\n",
    "    'Addition of diazomethylphosphonates': '4 Addition of diazomethylphosphonates',\n",
    "    'Addition of diazoacetamides': '5 Addition of diazoacetamides',\n",
    "    'Strecker Reaction (with aldimines)': '6 Strecker Reaction (with aldimines)',\n",
    "    'Peroxidation of imines': '7 Peroxidation of imines',\n",
    "    'Transfer Hydrogenation of beta,gamma-Alkynyl alpha-Imino Esters': '8 Transfer Hydrogenation of beta,gamma-Alkynyl alpha-Imino Esters',\n",
    "    'Transfer Hydrogenation of Enamides': '9 Transfer Hydrogenation of Enamides',\n",
    "    'Transfer Hydrogenation of N-aryl imines (List)': '10 Transfer Hydrogenation of N-aryl imines (List)',\n",
    "    'Transfer Hydrogenation of N-aryl imines (Rueping)': '11 Transfer Hydrogenation of N-aryl imines (Rueping)',\n",
    "    'Reductive amination of N-aryl imines (Macmillan)': '12 Reductive amination of N-aryl imines (Macmillan)',\n",
    "    'Transfer Hydrogenation of trifluoromethyl ketimines': '13 Transfer Hydrogenation of trifluoromethyl ketimines',\n",
    "    'Transfer Hydrogenation of N-aryl imines by benzothiazoline': '14 Transfer Hydrogenation of N-aryl imines by benzothiazoline',\n",
    "    'Reductive amination of aliphatic ketones by benzothiazoline': '15 Reductive amination of aliphatic ketones by benzothiazoline',\n",
    "    'Transfer Hydrogenation of ethyl ketimines': '16 Transfer Hydrogenation of ethyl ketimines',\n",
    "    'Strecker Reaction (with ketimines)': '17 Strecker Reaction (with ketimines)',\n",
    "    'Addition of enecarbamates to benzoyl imines': '18 Addition of enecarbamates to benzoyl imines',\n",
    "    'Hydrogenation of fluorinated alkynyl ketimines': '19 Hydrogenation of fluorinated alkynyl ketimines',\n",
    "    'Addition of thiols to imines (Denmark)': '20 Addition of thiols to imines (Denmark)'\n",
    "}"
   ]
  },
  {
   "cell_type": "code",
   "execution_count": 5,
   "metadata": {},
   "outputs": [
    {
     "data": {
      "text/html": [
       "<div>\n",
       "<style scoped>\n",
       "    .dataframe tbody tr th:only-of-type {\n",
       "        vertical-align: middle;\n",
       "    }\n",
       "\n",
       "    .dataframe tbody tr th {\n",
       "        vertical-align: top;\n",
       "    }\n",
       "\n",
       "    .dataframe thead th {\n",
       "        text-align: right;\n",
       "    }\n",
       "</style>\n",
       "<table border=\"1\" class=\"dataframe\">\n",
       "  <thead>\n",
       "    <tr style=\"text-align: right;\">\n",
       "      <th></th>\n",
       "      <th>Unnamed: 0</th>\n",
       "      <th>reaction</th>\n",
       "      <th>category</th>\n",
       "      <th>entry</th>\n",
       "      <th>substrate1</th>\n",
       "      <th>substrate2</th>\n",
       "      <th>solvent</th>\n",
       "      <th>product</th>\n",
       "      <th>catalyst</th>\n",
       "    </tr>\n",
       "  </thead>\n",
       "  <tbody>\n",
       "    <tr>\n",
       "      <th>0</th>\n",
       "      <td>0.0</td>\n",
       "      <td>Addition of alcohols</td>\n",
       "      <td>NaN</td>\n",
       "      <td>1</td>\n",
       "      <td>Addition of alchohols - Substrate 1 - 1-10.c3xml</td>\n",
       "      <td>Addition of alchohols - Substrate 2 - 1.c3xml</td>\n",
       "      <td>Addition of alchohols - Solvent.c3xml</td>\n",
       "      <td>Addition of alchohols - Product 1.c3xml</td>\n",
       "      <td>Addition of alchohols - Catalyst.c3xml</td>\n",
       "    </tr>\n",
       "    <tr>\n",
       "      <th>1</th>\n",
       "      <td>1.0</td>\n",
       "      <td>Addition of alcohols</td>\n",
       "      <td>NaN</td>\n",
       "      <td>2</td>\n",
       "      <td>Addition of alchohols - Substrate 1 - 1-10.c3xml</td>\n",
       "      <td>Addition of alchohols - Substrate 2 - 2.c3xml</td>\n",
       "      <td>Addition of alchohols - Solvent.c3xml</td>\n",
       "      <td>Addition of alchohols - Product 2.c3xml</td>\n",
       "      <td>Addition of alchohols - Catalyst.c3xml</td>\n",
       "    </tr>\n",
       "    <tr>\n",
       "      <th>2</th>\n",
       "      <td>2.0</td>\n",
       "      <td>Addition of alcohols</td>\n",
       "      <td>NaN</td>\n",
       "      <td>3</td>\n",
       "      <td>Addition of alchohols - Substrate 1 - 1-10.c3xml</td>\n",
       "      <td>Addition of alchohols - Substrate 2 - 3.c3xml</td>\n",
       "      <td>Addition of alchohols - Solvent.c3xml</td>\n",
       "      <td>Addition of alchohols - Product 3.c3xml</td>\n",
       "      <td>Addition of alchohols - Catalyst.c3xml</td>\n",
       "    </tr>\n",
       "    <tr>\n",
       "      <th>3</th>\n",
       "      <td>3.0</td>\n",
       "      <td>Addition of alcohols</td>\n",
       "      <td>NaN</td>\n",
       "      <td>4</td>\n",
       "      <td>Addition of alchohols - Substrate 1 - 1-10.c3xml</td>\n",
       "      <td>Addition of alchohols - Substrate 2 - 4.c3xml</td>\n",
       "      <td>Addition of alchohols - Solvent.c3xml</td>\n",
       "      <td>Addition of alchohols - Product 4.c3xml</td>\n",
       "      <td>Addition of alchohols - Catalyst.c3xml</td>\n",
       "    </tr>\n",
       "    <tr>\n",
       "      <th>4</th>\n",
       "      <td>4.0</td>\n",
       "      <td>Addition of alcohols</td>\n",
       "      <td>NaN</td>\n",
       "      <td>5</td>\n",
       "      <td>Addition of alchohols - Substrate 1 - 1-10.c3xml</td>\n",
       "      <td>Addition of alchohols - Substrate 2 - 5.c3xml</td>\n",
       "      <td>Addition of alchohols - Solvent.c3xml</td>\n",
       "      <td>Addition of alchohols - Product 5.c3xml</td>\n",
       "      <td>Addition of alchohols - Catalyst.c3xml</td>\n",
       "    </tr>\n",
       "  </tbody>\n",
       "</table>\n",
       "</div>"
      ],
      "text/plain": [
       "   Unnamed: 0              reaction category  entry  \\\n",
       "0         0.0  Addition of alcohols      NaN      1   \n",
       "1         1.0  Addition of alcohols      NaN      2   \n",
       "2         2.0  Addition of alcohols      NaN      3   \n",
       "3         3.0  Addition of alcohols      NaN      4   \n",
       "4         4.0  Addition of alcohols      NaN      5   \n",
       "\n",
       "                                         substrate1  \\\n",
       "0  Addition of alchohols - Substrate 1 - 1-10.c3xml   \n",
       "1  Addition of alchohols - Substrate 1 - 1-10.c3xml   \n",
       "2  Addition of alchohols - Substrate 1 - 1-10.c3xml   \n",
       "3  Addition of alchohols - Substrate 1 - 1-10.c3xml   \n",
       "4  Addition of alchohols - Substrate 1 - 1-10.c3xml   \n",
       "\n",
       "                                      substrate2  \\\n",
       "0  Addition of alchohols - Substrate 2 - 1.c3xml   \n",
       "1  Addition of alchohols - Substrate 2 - 2.c3xml   \n",
       "2  Addition of alchohols - Substrate 2 - 3.c3xml   \n",
       "3  Addition of alchohols - Substrate 2 - 4.c3xml   \n",
       "4  Addition of alchohols - Substrate 2 - 5.c3xml   \n",
       "\n",
       "                                 solvent  \\\n",
       "0  Addition of alchohols - Solvent.c3xml   \n",
       "1  Addition of alchohols - Solvent.c3xml   \n",
       "2  Addition of alchohols - Solvent.c3xml   \n",
       "3  Addition of alchohols - Solvent.c3xml   \n",
       "4  Addition of alchohols - Solvent.c3xml   \n",
       "\n",
       "                                   product  \\\n",
       "0  Addition of alchohols - Product 1.c3xml   \n",
       "1  Addition of alchohols - Product 2.c3xml   \n",
       "2  Addition of alchohols - Product 3.c3xml   \n",
       "3  Addition of alchohols - Product 4.c3xml   \n",
       "4  Addition of alchohols - Product 5.c3xml   \n",
       "\n",
       "                                 catalyst  \n",
       "0  Addition of alchohols - Catalyst.c3xml  \n",
       "1  Addition of alchohols - Catalyst.c3xml  \n",
       "2  Addition of alchohols - Catalyst.c3xml  \n",
       "3  Addition of alchohols - Catalyst.c3xml  \n",
       "4  Addition of alchohols - Catalyst.c3xml  "
      ]
     },
     "execution_count": 5,
     "metadata": {},
     "output_type": "execute_result"
    }
   ],
   "source": [
    "files.head()"
   ]
  },
  {
   "cell_type": "code",
   "execution_count": 6,
   "metadata": {},
   "outputs": [],
   "source": [
    "extra_bonds_sub1 = list()\n",
    "single_bonds_sub1 = list()\n",
    "double_bonds_sub1 = list()\n",
    "triple_bonds_sub1 = list()\n",
    "all_bonds_sub1 = list()"
   ]
  },
  {
   "cell_type": "code",
   "execution_count": 7,
   "metadata": {},
   "outputs": [],
   "source": [
    "extra_bonds_sub2 = list()\n",
    "single_bonds_sub2 = list()\n",
    "double_bonds_sub2 = list()\n",
    "triple_bonds_sub2 = list()\n",
    "all_bonds_sub2 = list()"
   ]
  },
  {
   "cell_type": "code",
   "execution_count": 8,
   "metadata": {},
   "outputs": [],
   "source": [
    "extra_bonds_sol = list()\n",
    "single_bonds_sol = list()\n",
    "double_bonds_sol = list()\n",
    "triple_bonds_sol = list()\n",
    "all_bonds_sol = list()"
   ]
  },
  {
   "cell_type": "code",
   "execution_count": 9,
   "metadata": {},
   "outputs": [],
   "source": [
    "extra_bonds_pro = list()\n",
    "single_bonds_pro = list()\n",
    "double_bonds_pro = list()\n",
    "triple_bonds_pro = list()\n",
    "all_bonds_pro = list()"
   ]
  },
  {
   "cell_type": "code",
   "execution_count": 10,
   "metadata": {},
   "outputs": [],
   "source": [
    "extra_bonds_cat = list()\n",
    "single_bonds_cat = list()\n",
    "double_bonds_cat = list()\n",
    "triple_bonds_cat = list()\n",
    "all_bonds_cat = list()"
   ]
  },
  {
   "cell_type": "code",
   "execution_count": 11,
   "metadata": {},
   "outputs": [],
   "source": [
    "extra_bonds = list()\n",
    "single_bonds = list()\n",
    "double_bonds = list()\n",
    "triple_bonds = list()\n",
    "all_bonds = list()"
   ]
  },
  {
   "cell_type": "code",
   "execution_count": 12,
   "metadata": {},
   "outputs": [],
   "source": [
    "##substrate 1\n",
    "for i in range(444):\n",
    "    if pd.isna(files.iloc[i,2]) == True:\n",
    "        filename = '/Users/jlisd/Downloads/AI_Chem/Chem3D/'+ folder[files.iloc[i, 1]] + '/' + files.iloc[i,4]\n",
    "    else:\n",
    "        filename = '/Users/jlisd/Downloads/AI_Chem/Chem3D/'+ folder[files.iloc[i, 1]] + '/' + files.iloc[i, 2] + '/' + files.iloc[i, 4]\n",
    "    molecule = Molecule(filename)\n",
    "    for bond in molecule.bonds:\n",
    "        if molecule.bonds[bond].bondOrder == '1':\n",
    "            single_bonds_sub1.append(molecule.distance(bond))\n",
    "            all_bonds_sub1.append(molecule.distance(bond))\n",
    "        elif molecule.bonds[bond].bondOrder == '2':\n",
    "            double_bonds_sub1.append(molecule.distance(bond))\n",
    "            all_bonds_sub1.append(molecule.distance(bond))\n",
    "        elif molecule.bonds[bond].bondOrder == '3':\n",
    "            triple_bonds_sub1.append(molecule.distance(bond))\n",
    "            all_bonds_sub1.append(molecule.distance(bond))\n",
    "        else:\n",
    "            extra_bonds_sub1.append(molecule.distance(bond))"
   ]
  },
  {
   "cell_type": "code",
   "execution_count": 13,
   "metadata": {},
   "outputs": [
    {
     "name": "stdout",
     "output_type": "stream",
     "text": [
      "11329\n",
      "3086\n",
      "39\n",
      "14454\n",
      "0\n"
     ]
    }
   ],
   "source": [
    "print(len(single_bonds_sub1))\n",
    "print(len(double_bonds_sub1))\n",
    "print(len(triple_bonds_sub1))\n",
    "print(len(all_bonds_sub1))\n",
    "print(len(extra_bonds_sub1))"
   ]
  },
  {
   "cell_type": "code",
   "execution_count": 14,
   "metadata": {},
   "outputs": [],
   "source": [
    "##substrate 2\n",
    "for i in range(444):\n",
    "    if pd.isna(files.iloc[i,2]) == True:\n",
    "        filename = '/Users/jlisd/Downloads/AI_Chem/Chem3D/'+ folder[files.iloc[i, 1]] + '/' + files.iloc[i,5]\n",
    "    else:\n",
    "        filename = '/Users/jlisd/Downloads/AI_Chem/Chem3D/'+ folder[files.iloc[i, 1]] + '/' + files.iloc[i, 2] + '/' + files.iloc[i, 5]\n",
    "    molecule = Molecule(filename)\n",
    "    for bond in molecule.bonds:\n",
    "        if molecule.bonds[bond].bondOrder == '1':\n",
    "            single_bonds_sub2.append(molecule.distance(bond))\n",
    "            all_bonds_sub2.append(molecule.distance(bond))\n",
    "        elif molecule.bonds[bond].bondOrder == '2':\n",
    "            double_bonds_sub2.append(molecule.distance(bond))\n",
    "            all_bonds_sub2.append(molecule.distance(bond))\n",
    "        elif molecule.bonds[bond].bondOrder == '3':\n",
    "            triple_bonds_sub2.append(molecule.distance(bond))\n",
    "            all_bonds_sub2.append(molecule.distance(bond))\n",
    "        else:\n",
    "            extra_bonds_sub2.append(molecule.distance(bond))"
   ]
  },
  {
   "cell_type": "code",
   "execution_count": 15,
   "metadata": {},
   "outputs": [
    {
     "name": "stdout",
     "output_type": "stream",
     "text": [
      "8678\n",
      "1520\n",
      "47\n",
      "10245\n",
      "0\n"
     ]
    }
   ],
   "source": [
    "print(len(single_bonds_sub2))\n",
    "print(len(double_bonds_sub2))\n",
    "print(len(triple_bonds_sub2))\n",
    "print(len(all_bonds_sub2))\n",
    "print(len(extra_bonds_sub2))"
   ]
  },
  {
   "cell_type": "code",
   "execution_count": 16,
   "metadata": {},
   "outputs": [],
   "source": [
    "##solvent\n",
    "for i in range(444):\n",
    "    if pd.isna(files.iloc[i,2]) == True:\n",
    "        filename = '/Users/jlisd/Downloads/AI_Chem/Chem3D/'+ folder[files.iloc[i, 1]] + '/' + files.iloc[i,6]\n",
    "    else:\n",
    "        filename = '/Users/jlisd/Downloads/AI_Chem/Chem3D/'+ folder[files.iloc[i, 1]] + '/' + files.iloc[i, 2] + '/' + files.iloc[i, 6]\n",
    "    molecule = Molecule(filename)\n",
    "    for bond in molecule.bonds:\n",
    "        if molecule.bonds[bond].bondOrder == '1':\n",
    "            single_bonds_sol.append(molecule.distance(bond))\n",
    "            all_bonds_sol.append(molecule.distance(bond))\n",
    "        elif molecule.bonds[bond].bondOrder == '2':\n",
    "            double_bonds_sol.append(molecule.distance(bond))\n",
    "            all_bonds_sol.append(molecule.distance(bond))\n",
    "        elif molecule.bonds[bond].bondOrder == '3':\n",
    "            triple_bonds_sol.append(molecule.distance(bond))\n",
    "            all_bonds_sol.append(molecule.distance(bond))\n",
    "        else:\n",
    "            extra_bonds_sol.append(molecule.distance(bond))"
   ]
  },
  {
   "cell_type": "code",
   "execution_count": 17,
   "metadata": {
    "scrolled": true
   },
   "outputs": [
    {
     "name": "stdout",
     "output_type": "stream",
     "text": [
      "4779\n",
      "970\n",
      "2\n",
      "5751\n",
      "0\n"
     ]
    }
   ],
   "source": [
    "print(len(single_bonds_sol))\n",
    "print(len(double_bonds_sol))\n",
    "print(len(triple_bonds_sol))\n",
    "print(len(all_bonds_sol))\n",
    "print(len(extra_bonds_sol))"
   ]
  },
  {
   "cell_type": "code",
   "execution_count": 18,
   "metadata": {},
   "outputs": [],
   "source": [
    "##product\n",
    "for i in range(444):\n",
    "    if pd.isna(files.iloc[i,2]) == True:\n",
    "        filename = '/Users/jlisd/Downloads/AI_Chem/Chem3D/'+ folder[files.iloc[i, 1]] + '/' + files.iloc[i,7]\n",
    "    else:\n",
    "        filename = '/Users/jlisd/Downloads/AI_Chem/Chem3D/'+ folder[files.iloc[i, 1]] + '/' + files.iloc[i, 2] + '/' + files.iloc[i, 7]\n",
    "    molecule = Molecule(filename)\n",
    "    for bond in molecule.bonds:\n",
    "        if molecule.bonds[bond].bondOrder == '1':\n",
    "            single_bonds_pro.append(molecule.distance(bond))\n",
    "            all_bonds_pro.append(molecule.distance(bond))\n",
    "        elif molecule.bonds[bond].bondOrder == '2':\n",
    "            double_bonds_pro.append(molecule.distance(bond))\n",
    "            all_bonds_pro.append(molecule.distance(bond))\n",
    "        elif molecule.bonds[bond].bondOrder == '3':\n",
    "            triple_bonds_pro.append(molecule.distance(bond))\n",
    "            all_bonds_pro.append(molecule.distance(bond))\n",
    "        else:\n",
    "            extra_bonds_pro.append(molecule.distance(bond))"
   ]
  },
  {
   "cell_type": "code",
   "execution_count": 19,
   "metadata": {},
   "outputs": [
    {
     "name": "stdout",
     "output_type": "stream",
     "text": [
      "16371\n",
      "3252\n",
      "65\n",
      "19688\n",
      "0\n"
     ]
    }
   ],
   "source": [
    "print(len(single_bonds_pro))\n",
    "print(len(double_bonds_pro))\n",
    "print(len(triple_bonds_pro))\n",
    "print(len(all_bonds_pro))\n",
    "print(len(extra_bonds_pro))"
   ]
  },
  {
   "cell_type": "code",
   "execution_count": 20,
   "metadata": {},
   "outputs": [],
   "source": [
    "##catalyst\n",
    "for i in range(444):\n",
    "    if pd.isna(files.iloc[i,2]) == True:\n",
    "        filename = '/Users/jlisd/Downloads/AI_Chem/Chem3D/'+ folder[files.iloc[i, 1]] + '/' + files.iloc[i,8]\n",
    "    else:\n",
    "        filename = '/Users/jlisd/Downloads/AI_Chem/Chem3D/'+ folder[files.iloc[i, 1]] + '/' + files.iloc[i, 2] + '/' + files.iloc[i, 8]\n",
    "    molecule = Molecule(filename)\n",
    "    for bond in molecule.bonds:\n",
    "        if molecule.bonds[bond].bondOrder == '1':\n",
    "            single_bonds_cat.append(molecule.distance(bond))\n",
    "            all_bonds_cat.append(molecule.distance(bond))\n",
    "        elif molecule.bonds[bond].bondOrder == '2':\n",
    "            double_bonds_cat.append(molecule.distance(bond))\n",
    "            all_bonds_cat.append(molecule.distance(bond))\n",
    "        elif molecule.bonds[bond].bondOrder == '3':\n",
    "            triple_bonds_cat.append(molecule.distance(bond))\n",
    "            all_bonds_cat.append(molecule.distance(bond))\n",
    "        else:\n",
    "            extra_bonds_cat.append(molecule.distance(bond))"
   ]
  },
  {
   "cell_type": "code",
   "execution_count": 21,
   "metadata": {},
   "outputs": [
    {
     "name": "stdout",
     "output_type": "stream",
     "text": [
      "36289\n",
      "8656\n",
      "0\n",
      "44945\n",
      "0\n"
     ]
    }
   ],
   "source": [
    "print(len(single_bonds_cat))\n",
    "print(len(double_bonds_cat))\n",
    "print(len(triple_bonds_cat))\n",
    "print(len(all_bonds_cat))\n",
    "print(len(extra_bonds_cat))"
   ]
  },
  {
   "cell_type": "code",
   "execution_count": 22,
   "metadata": {},
   "outputs": [],
   "source": [
    "single_bonds = single_bonds_sub1 + single_bonds_sub2 + single_bonds_sol + single_bonds_pro + single_bonds_cat\n",
    "double_bonds = double_bonds_sub1 + double_bonds_sub2 + double_bonds_sol + double_bonds_pro + double_bonds_cat\n",
    "triple_bonds = triple_bonds_sub1 + triple_bonds_sub2 + triple_bonds_sol + triple_bonds_pro + triple_bonds_cat\n",
    "all_bonds = all_bonds_sub1 + all_bonds_sub2 + all_bonds_sol + all_bonds_pro + all_bonds_cat"
   ]
  },
  {
   "cell_type": "code",
   "execution_count": 23,
   "metadata": {},
   "outputs": [
    {
     "name": "stdout",
     "output_type": "stream",
     "text": [
      "77446\n",
      "17484\n",
      "153\n",
      "95083\n"
     ]
    }
   ],
   "source": [
    "print(len(single_bonds))\n",
    "print(len(double_bonds))\n",
    "print(len(triple_bonds))\n",
    "print(len(all_bonds))"
   ]
  },
  {
   "cell_type": "code",
   "execution_count": 26,
   "metadata": {},
   "outputs": [
    {
     "data": {
      "text/plain": [
       "(array([4.8200e+02, 1.0000e+00, 2.6000e+02, 4.6000e+01, 4.0000e+02,\n",
       "        1.0600e+02, 3.9761e+04, 0.0000e+00, 0.0000e+00, 0.0000e+00,\n",
       "        2.0000e+00, 0.0000e+00, 6.5400e+02, 0.0000e+00, 1.5100e+02,\n",
       "        7.3990e+03, 2.4200e+03, 1.0152e+04, 4.2380e+03, 1.9200e+02,\n",
       "        7.1000e+02, 0.0000e+00, 3.2170e+03, 4.9890e+03, 0.0000e+00,\n",
       "        0.0000e+00, 1.5220e+03, 0.0000e+00, 0.0000e+00, 0.0000e+00,\n",
       "        1.1200e+02, 0.0000e+00, 7.6000e+01, 1.3600e+02, 2.7600e+02,\n",
       "        0.0000e+00, 9.4000e+01, 4.8000e+01, 0.0000e+00, 2.0000e+00]),\n",
       " array([0.9419916 , 0.96716694, 0.99234227, 1.01751761, 1.04269295,\n",
       "        1.06786829, 1.09304363, 1.11821896, 1.1433943 , 1.16856964,\n",
       "        1.19374498, 1.21892032, 1.24409565, 1.26927099, 1.29444633,\n",
       "        1.31962167, 1.344797  , 1.36997234, 1.39514768, 1.42032302,\n",
       "        1.44549836, 1.47067369, 1.49584903, 1.52102437, 1.54619971,\n",
       "        1.57137505, 1.59655038, 1.62172572, 1.64690106, 1.6720764 ,\n",
       "        1.69725174, 1.72242707, 1.74760241, 1.77277775, 1.79795309,\n",
       "        1.82312843, 1.84830376, 1.8734791 , 1.89865444, 1.92382978,\n",
       "        1.94900512]),\n",
       " <a list of 40 Patch objects>)"
      ]
     },
     "execution_count": 26,
     "metadata": {},
     "output_type": "execute_result"
    },
    {
     "data": {
      "image/png": "[encoded data removed]",
      "text/plain": [
       "<Figure size 432x288 with 1 Axes>"
      ]
     },
     "metadata": {
      "needs_background": "light"
     },
     "output_type": "display_data"
    }
   ],
   "source": [
    "plt.title('distance of every single bond in data')\n",
    "plt.xlabel('distance')\n",
    "plt.ylabel('frequency')\n",
    "plt.hist(single_bonds, bins = 40)"
   ]
  },
  {
   "cell_type": "code",
   "execution_count": 28,
   "metadata": {},
   "outputs": [
    {
     "data": {
      "text/plain": [
       "(array([1.070e+02, 0.000e+00, 0.000e+00, 0.000e+00, 0.000e+00, 0.000e+00,\n",
       "        0.000e+00, 7.860e+02, 0.000e+00, 0.000e+00, 0.000e+00, 1.070e+02,\n",
       "        4.240e+02, 0.000e+00, 0.000e+00, 0.000e+00, 0.000e+00, 0.000e+00,\n",
       "        6.200e+01, 0.000e+00, 4.370e+03, 1.780e+02, 0.000e+00, 0.000e+00,\n",
       "        2.000e+01, 2.800e+01, 9.385e+03, 1.174e+03, 2.160e+02, 0.000e+00,\n",
       "        0.000e+00, 7.800e+01, 0.000e+00, 0.000e+00, 0.000e+00, 5.460e+02,\n",
       "        0.000e+00, 0.000e+00, 0.000e+00, 3.000e+00]),\n",
       " array([1.13397198, 1.14370772, 1.15344347, 1.16317921, 1.17291496,\n",
       "        1.1826507 , 1.19238645, 1.20212219, 1.21185793, 1.22159368,\n",
       "        1.23132942, 1.24106517, 1.25080091, 1.26053665, 1.2702724 ,\n",
       "        1.28000814, 1.28974389, 1.29947963, 1.30921538, 1.31895112,\n",
       "        1.32868686, 1.33842261, 1.34815835, 1.3578941 , 1.36762984,\n",
       "        1.37736558, 1.38710133, 1.39683707, 1.40657282, 1.41630856,\n",
       "        1.42604431, 1.43578005, 1.44551579, 1.45525154, 1.46498728,\n",
       "        1.47472303, 1.48445877, 1.49419451, 1.50393026, 1.513666  ,\n",
       "        1.52340175]),\n",
       " <a list of 40 Patch objects>)"
      ]
     },
     "execution_count": 28,
     "metadata": {},
     "output_type": "execute_result"
    },
    {
     "data": {
      "image/png": "[encoded data removed]",
      "text/plain": [
       "<Figure size 432x288 with 1 Axes>"
      ]
     },
     "metadata": {
      "needs_background": "light"
     },
     "output_type": "display_data"
    }
   ],
   "source": [
    "plt.title('distance of every double bond in data')\n",
    "plt.xlabel('distance')\n",
    "plt.ylabel('frequency')\n",
    "plt.hist(double_bonds, bins = 40)"
   ]
  },
  {
   "cell_type": "code",
   "execution_count": 30,
   "metadata": {},
   "outputs": [
    {
     "data": {
      "text/plain": [
       "(array([98.,  0.,  0.,  0.,  0.,  0.,  0.,  0.,  0., 55.]),\n",
       " array([1.15799343, 1.16339501, 1.16879659, 1.17419817, 1.17959975,\n",
       "        1.18500133, 1.19040291, 1.19580449, 1.20120607, 1.20660765,\n",
       "        1.21200923]),\n",
       " <a list of 10 Patch objects>)"
      ]
     },
     "execution_count": 30,
     "metadata": {},
     "output_type": "execute_result"
    },
    {
     "data": {
      "image/png": "[encoded data removed]",
      "text/plain": [
       "<Figure size 432x288 with 1 Axes>"
      ]
     },
     "metadata": {
      "needs_background": "light"
     },
     "output_type": "display_data"
    }
   ],
   "source": [
    "plt.title('distance of every triple bond in data')\n",
    "plt.xlabel('distance')\n",
    "plt.ylabel('frequency')\n",
    "plt.hist(triple_bonds, bins = 10)"
   ]
  },
  {
   "cell_type": "code",
   "execution_count": 31,
   "metadata": {},
   "outputs": [
    {
     "data": {
      "text/plain": [
       "(array([4.8200e+02, 1.0000e+00, 2.6000e+02, 4.6000e+01, 4.0000e+02,\n",
       "        1.0600e+02, 3.9761e+04, 1.0700e+02, 9.8000e+01, 0.0000e+00,\n",
       "        8.4300e+02, 1.0700e+02, 1.0780e+03, 0.0000e+00, 2.1300e+02,\n",
       "        1.1947e+04, 2.4200e+03, 1.8383e+04, 6.8300e+03, 2.7000e+02,\n",
       "        7.1000e+02, 5.4600e+02, 3.2170e+03, 4.9920e+03, 0.0000e+00,\n",
       "        0.0000e+00, 1.5220e+03, 0.0000e+00, 0.0000e+00, 0.0000e+00,\n",
       "        1.1200e+02, 0.0000e+00, 7.6000e+01, 1.3600e+02, 2.7600e+02,\n",
       "        0.0000e+00, 9.4000e+01, 4.8000e+01, 0.0000e+00, 2.0000e+00]),\n",
       " array([0.9419916 , 0.96716694, 0.99234227, 1.01751761, 1.04269295,\n",
       "        1.06786829, 1.09304363, 1.11821896, 1.1433943 , 1.16856964,\n",
       "        1.19374498, 1.21892032, 1.24409565, 1.26927099, 1.29444633,\n",
       "        1.31962167, 1.344797  , 1.36997234, 1.39514768, 1.42032302,\n",
       "        1.44549836, 1.47067369, 1.49584903, 1.52102437, 1.54619971,\n",
       "        1.57137505, 1.59655038, 1.62172572, 1.64690106, 1.6720764 ,\n",
       "        1.69725174, 1.72242707, 1.74760241, 1.77277775, 1.79795309,\n",
       "        1.82312843, 1.84830376, 1.8734791 , 1.89865444, 1.92382978,\n",
       "        1.94900512]),\n",
       " <a list of 40 Patch objects>)"
      ]
     },
     "execution_count": 31,
     "metadata": {},
     "output_type": "execute_result"
    },
    {
     "data": {
      "image/png": "[encoded data removed]",
      "text/plain": [
       "<Figure size 432x288 with 1 Axes>"
      ]
     },
     "metadata": {
      "needs_background": "light"
     },
     "output_type": "display_data"
    }
   ],
   "source": [
    "plt.title('distance of every bond in data')\n",
    "plt.xlabel('distance')\n",
    "plt.ylabel('frequency')\n",
    "plt.hist(all_bonds, bins = 40)"
   ]
  },
  {
   "cell_type": "code",
   "execution_count": null,
   "metadata": {},
   "outputs": [],
   "source": []
  }
 ],
 "metadata": {
  "kernelspec": {
   "display_name": "Python 3",
   "language": "python",
   "name": "python3"
  },
  "language_info": {
   "codemirror_mode": {
    "name": "ipython",
    "version": 3
   },
   "file_extension": ".py",
   "mimetype": "text/x-python",
   "name": "python",
   "nbconvert_exporter": "python",
   "pygments_lexer": "ipython3",
   "version": "3.7.6"
  }
 },
 "nbformat": 4,
 "nbformat_minor": 4
}
